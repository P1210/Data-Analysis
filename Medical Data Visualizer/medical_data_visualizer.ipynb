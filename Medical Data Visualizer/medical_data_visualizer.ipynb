{
  "nbformat": 4,
  "nbformat_minor": 0,
  "metadata": {
    "colab": {
      "name": "medical data visualizer.ipynb",
      "provenance": []
    },
    "kernelspec": {
      "name": "python3",
      "display_name": "Python 3"
    },
    "language_info": {
      "name": "python"
    }
  },
  "cells": [
    {
      "cell_type": "markdown",
      "source": [
        "### Medical Data Analysis\n",
        "\n",
        "In this freecodecamp project, you will visualize and make calculations from medical examination data using matplotlib, seaborn, and pandas. \n",
        "The dataset represent patients and the columns represent information like body measurements, results from various blood tests, and lifestyle choices. You will use the dataset to explore the relationship between cardiac disease, body measurements, blood markers, and lifestyle choices."
      ],
      "metadata": {
        "id": "6lQpgmG95EHi"
      }
    },
    {
      "cell_type": "code",
      "execution_count": null,
      "metadata": {
        "id": "6I_4_50vFN46"
      },
      "outputs": [],
      "source": [
        "import numpy as np\n",
        "import pandas as pd\n",
        "import seaborn as sb\n",
        "import matplotlib.pyplot as plt"
      ]
    },
    {
      "cell_type": "code",
      "source": [
        "df = pd.read_csv(\"medical_examination.csv\")\n",
        "df.head()"
      ],
      "metadata": {
        "colab": {
          "base_uri": "https://localhost:8080/",
          "height": 206
        },
        "id": "6zaLB2ErF8j8",
        "outputId": "215229fa-46d6-45a9-9567-7fd2dd83f015"
      },
      "execution_count": null,
      "outputs": [
        {
          "output_type": "execute_result",
          "data": {
            "text/html": [
              "\n",
              "  <div id=\"df-a78166ce-1b15-48ca-bc52-390e343e5aa0\">\n",
              "    <div class=\"colab-df-container\">\n",
              "      <div>\n",
              "<style scoped>\n",
              "    .dataframe tbody tr th:only-of-type {\n",
              "        vertical-align: middle;\n",
              "    }\n",
              "\n",
              "    .dataframe tbody tr th {\n",
              "        vertical-align: top;\n",
              "    }\n",
              "\n",
              "    .dataframe thead th {\n",
              "        text-align: right;\n",
              "    }\n",
              "</style>\n",
              "<table border=\"1\" class=\"dataframe\">\n",
              "  <thead>\n",
              "    <tr style=\"text-align: right;\">\n",
              "      <th></th>\n",
              "      <th>id</th>\n",
              "      <th>age</th>\n",
              "      <th>gender</th>\n",
              "      <th>height</th>\n",
              "      <th>weight</th>\n",
              "      <th>ap_hi</th>\n",
              "      <th>ap_lo</th>\n",
              "      <th>cholesterol</th>\n",
              "      <th>gluc</th>\n",
              "      <th>smoke</th>\n",
              "      <th>alco</th>\n",
              "      <th>active</th>\n",
              "      <th>cardio</th>\n",
              "    </tr>\n",
              "  </thead>\n",
              "  <tbody>\n",
              "    <tr>\n",
              "      <th>0</th>\n",
              "      <td>0</td>\n",
              "      <td>18393</td>\n",
              "      <td>2</td>\n",
              "      <td>168</td>\n",
              "      <td>62.0</td>\n",
              "      <td>110</td>\n",
              "      <td>80</td>\n",
              "      <td>1</td>\n",
              "      <td>1</td>\n",
              "      <td>0</td>\n",
              "      <td>0</td>\n",
              "      <td>1</td>\n",
              "      <td>0</td>\n",
              "    </tr>\n",
              "    <tr>\n",
              "      <th>1</th>\n",
              "      <td>1</td>\n",
              "      <td>20228</td>\n",
              "      <td>1</td>\n",
              "      <td>156</td>\n",
              "      <td>85.0</td>\n",
              "      <td>140</td>\n",
              "      <td>90</td>\n",
              "      <td>3</td>\n",
              "      <td>1</td>\n",
              "      <td>0</td>\n",
              "      <td>0</td>\n",
              "      <td>1</td>\n",
              "      <td>1</td>\n",
              "    </tr>\n",
              "    <tr>\n",
              "      <th>2</th>\n",
              "      <td>2</td>\n",
              "      <td>18857</td>\n",
              "      <td>1</td>\n",
              "      <td>165</td>\n",
              "      <td>64.0</td>\n",
              "      <td>130</td>\n",
              "      <td>70</td>\n",
              "      <td>3</td>\n",
              "      <td>1</td>\n",
              "      <td>0</td>\n",
              "      <td>0</td>\n",
              "      <td>0</td>\n",
              "      <td>1</td>\n",
              "    </tr>\n",
              "    <tr>\n",
              "      <th>3</th>\n",
              "      <td>3</td>\n",
              "      <td>17623</td>\n",
              "      <td>2</td>\n",
              "      <td>169</td>\n",
              "      <td>82.0</td>\n",
              "      <td>150</td>\n",
              "      <td>100</td>\n",
              "      <td>1</td>\n",
              "      <td>1</td>\n",
              "      <td>0</td>\n",
              "      <td>0</td>\n",
              "      <td>1</td>\n",
              "      <td>1</td>\n",
              "    </tr>\n",
              "    <tr>\n",
              "      <th>4</th>\n",
              "      <td>4</td>\n",
              "      <td>17474</td>\n",
              "      <td>1</td>\n",
              "      <td>156</td>\n",
              "      <td>56.0</td>\n",
              "      <td>100</td>\n",
              "      <td>60</td>\n",
              "      <td>1</td>\n",
              "      <td>1</td>\n",
              "      <td>0</td>\n",
              "      <td>0</td>\n",
              "      <td>0</td>\n",
              "      <td>0</td>\n",
              "    </tr>\n",
              "  </tbody>\n",
              "</table>\n",
              "</div>\n",
              "      <button class=\"colab-df-convert\" onclick=\"convertToInteractive('df-a78166ce-1b15-48ca-bc52-390e343e5aa0')\"\n",
              "              title=\"Convert this dataframe to an interactive table.\"\n",
              "              style=\"display:none;\">\n",
              "        \n",
              "  <svg xmlns=\"http://www.w3.org/2000/svg\" height=\"24px\"viewBox=\"0 0 24 24\"\n",
              "       width=\"24px\">\n",
              "    <path d=\"M0 0h24v24H0V0z\" fill=\"none\"/>\n",
              "    <path d=\"M18.56 5.44l.94 2.06.94-2.06 2.06-.94-2.06-.94-.94-2.06-.94 2.06-2.06.94zm-11 1L8.5 8.5l.94-2.06 2.06-.94-2.06-.94L8.5 2.5l-.94 2.06-2.06.94zm10 10l.94 2.06.94-2.06 2.06-.94-2.06-.94-.94-2.06-.94 2.06-2.06.94z\"/><path d=\"M17.41 7.96l-1.37-1.37c-.4-.4-.92-.59-1.43-.59-.52 0-1.04.2-1.43.59L10.3 9.45l-7.72 7.72c-.78.78-.78 2.05 0 2.83L4 21.41c.39.39.9.59 1.41.59.51 0 1.02-.2 1.41-.59l7.78-7.78 2.81-2.81c.8-.78.8-2.07 0-2.86zM5.41 20L4 18.59l7.72-7.72 1.47 1.35L5.41 20z\"/>\n",
              "  </svg>\n",
              "      </button>\n",
              "      \n",
              "  <style>\n",
              "    .colab-df-container {\n",
              "      display:flex;\n",
              "      flex-wrap:wrap;\n",
              "      gap: 12px;\n",
              "    }\n",
              "\n",
              "    .colab-df-convert {\n",
              "      background-color: #E8F0FE;\n",
              "      border: none;\n",
              "      border-radius: 50%;\n",
              "      cursor: pointer;\n",
              "      display: none;\n",
              "      fill: #1967D2;\n",
              "      height: 32px;\n",
              "      padding: 0 0 0 0;\n",
              "      width: 32px;\n",
              "    }\n",
              "\n",
              "    .colab-df-convert:hover {\n",
              "      background-color: #E2EBFA;\n",
              "      box-shadow: 0px 1px 2px rgba(60, 64, 67, 0.3), 0px 1px 3px 1px rgba(60, 64, 67, 0.15);\n",
              "      fill: #174EA6;\n",
              "    }\n",
              "\n",
              "    [theme=dark] .colab-df-convert {\n",
              "      background-color: #3B4455;\n",
              "      fill: #D2E3FC;\n",
              "    }\n",
              "\n",
              "    [theme=dark] .colab-df-convert:hover {\n",
              "      background-color: #434B5C;\n",
              "      box-shadow: 0px 1px 3px 1px rgba(0, 0, 0, 0.15);\n",
              "      filter: drop-shadow(0px 1px 2px rgba(0, 0, 0, 0.3));\n",
              "      fill: #FFFFFF;\n",
              "    }\n",
              "  </style>\n",
              "\n",
              "      <script>\n",
              "        const buttonEl =\n",
              "          document.querySelector('#df-a78166ce-1b15-48ca-bc52-390e343e5aa0 button.colab-df-convert');\n",
              "        buttonEl.style.display =\n",
              "          google.colab.kernel.accessAllowed ? 'block' : 'none';\n",
              "\n",
              "        async function convertToInteractive(key) {\n",
              "          const element = document.querySelector('#df-a78166ce-1b15-48ca-bc52-390e343e5aa0');\n",
              "          const dataTable =\n",
              "            await google.colab.kernel.invokeFunction('convertToInteractive',\n",
              "                                                     [key], {});\n",
              "          if (!dataTable) return;\n",
              "\n",
              "          const docLinkHtml = 'Like what you see? Visit the ' +\n",
              "            '<a target=\"_blank\" href=https://colab.research.google.com/notebooks/data_table.ipynb>data table notebook</a>'\n",
              "            + ' to learn more about interactive tables.';\n",
              "          element.innerHTML = '';\n",
              "          dataTable['output_type'] = 'display_data';\n",
              "          await google.colab.output.renderOutput(dataTable, element);\n",
              "          const docLink = document.createElement('div');\n",
              "          docLink.innerHTML = docLinkHtml;\n",
              "          element.appendChild(docLink);\n",
              "        }\n",
              "      </script>\n",
              "    </div>\n",
              "  </div>\n",
              "  "
            ],
            "text/plain": [
              "   id    age  gender  height  weight  ...  gluc  smoke  alco  active  cardio\n",
              "0   0  18393       2     168    62.0  ...     1      0     0       1       0\n",
              "1   1  20228       1     156    85.0  ...     1      0     0       1       1\n",
              "2   2  18857       1     165    64.0  ...     1      0     0       0       1\n",
              "3   3  17623       2     169    82.0  ...     1      0     0       1       1\n",
              "4   4  17474       1     156    56.0  ...     1      0     0       0       0\n",
              "\n",
              "[5 rows x 13 columns]"
            ]
          },
          "metadata": {},
          "execution_count": 2
        }
      ]
    },
    {
      "cell_type": "code",
      "source": [
        "df.info()"
      ],
      "metadata": {
        "colab": {
          "base_uri": "https://localhost:8080/"
        },
        "id": "Kps93m2Jk4ZP",
        "outputId": "08a90e9a-4ef7-40e4-93ef-9c276654e049"
      },
      "execution_count": null,
      "outputs": [
        {
          "output_type": "stream",
          "name": "stdout",
          "text": [
            "<class 'pandas.core.frame.DataFrame'>\n",
            "RangeIndex: 70000 entries, 0 to 69999\n",
            "Data columns (total 13 columns):\n",
            " #   Column       Non-Null Count  Dtype  \n",
            "---  ------       --------------  -----  \n",
            " 0   id           70000 non-null  int64  \n",
            " 1   age          70000 non-null  int64  \n",
            " 2   gender       70000 non-null  int64  \n",
            " 3   height       70000 non-null  int64  \n",
            " 4   weight       70000 non-null  float64\n",
            " 5   ap_hi        70000 non-null  int64  \n",
            " 6   ap_lo        70000 non-null  int64  \n",
            " 7   cholesterol  70000 non-null  int64  \n",
            " 8   gluc         70000 non-null  int64  \n",
            " 9   smoke        70000 non-null  int64  \n",
            " 10  alco         70000 non-null  int64  \n",
            " 11  active       70000 non-null  int64  \n",
            " 12  cardio       70000 non-null  int64  \n",
            "dtypes: float64(1), int64(12)\n",
            "memory usage: 6.9 MB\n"
          ]
        }
      ]
    },
    {
      "cell_type": "markdown",
      "source": [
        "![Screenshot (439).png](data:image/png;base64,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)"
      ],
      "metadata": {
        "id": "nJGQAB8xHUMj"
      }
    },
    {
      "cell_type": "markdown",
      "source": [
        "#### **Question 1**\n",
        "\n",
        "Create a bar chart where we show the counts of good and bad outcomes for the cholesterol, gluc, alco, active, and smoke variables for patients with cardio=1 and cardio=0 in different panels."
      ],
      "metadata": {
        "id": "ThhoKTQkHsy7"
      }
    },
    {
      "cell_type": "code",
      "source": [
        "fig, axs = plt.subplots(ncols=5,figsize=(30,5))\n",
        "sb.countplot(x='cholesterol',data=df,hue='cardio',ax=axs[0])\n",
        "sb.countplot(x='gluc',data=df,hue='cardio',ax=axs[1])\n",
        "sb.countplot(x='alco',data=df,hue='cardio',ax=axs[2])\n",
        "sb.countplot(x='active',data=df,hue='cardio',ax=axs[3])\n",
        "sb.countplot(x='smoke',data=df,hue='cardio',ax=axs[4])\n",
        "plt.show"
      ],
      "metadata": {
        "colab": {
          "base_uri": "https://localhost:8080/"
        },
        "id": "PDsm7myjJb20",
        "outputId": "5f482b9d-515a-4532-f865-547b5f464882"
      },
      "execution_count": null,
      "outputs": [
        {
          "output_type": "execute_result",
          "data": {
            "text/plain": [
              "<function matplotlib.pyplot.show>"
            ]
          },
          "metadata": {},
          "execution_count": 4
        },
        {
          "output_type": "display_data",
          "data": {
            "image/png": "[encoded data removed]",
            "text/plain": [
              "<Figure size 2160x360 with 5 Axes>"
            ]
          },
          "metadata": {
            "needs_background": "light"
          }
        }
      ]
    },
    {
      "cell_type": "markdown",
      "source": [
        "#### **Question 2**\n",
        "\n",
        "Add an overweight column to the data. To determine if a person is overweight, first calculate their BMI by dividing their weight in kilograms by the square of their height in meters. If that value is > 25 then the person is overweight. Use the value 0 for NOT overweight and the value 1 for overweight."
      ],
      "metadata": {
        "id": "heTXfig0K0Ii"
      }
    },
    {
      "cell_type": "code",
      "source": [
        "#convert height from cm to m\n",
        "df['height']=df['height'].astype(\"float\")\n",
        "df['height']=df['height'].apply(lambda x : x*0.01)"
      ],
      "metadata": {
        "id": "bFbprpPfLcpM"
      },
      "execution_count": null,
      "outputs": []
    },
    {
      "cell_type": "code",
      "source": [
        "# adding a new column to calculate BMI\n",
        "df['BMI'] = df['weight'] / df['height']\n",
        "df.head()"
      ],
      "metadata": {
        "colab": {
          "base_uri": "https://localhost:8080/"
        },
        "id": "dXFXmCeXMoyk",
        "outputId": "a89a270a-9c4f-474c-e7bc-51c55ab0c1d6"
      },
      "execution_count": null,
      "outputs": [
        {
          "output_type": "execute_result",
          "data": {
            "text/html": [
              "\n",
              "  <div id=\"df-0d3f2d56-4cf9-4dab-becb-2d7d4807a9ad\">\n",
              "    <div class=\"colab-df-container\">\n",
              "      <div>\n",
              "<style scoped>\n",
              "    .dataframe tbody tr th:only-of-type {\n",
              "        vertical-align: middle;\n",
              "    }\n",
              "\n",
              "    .dataframe tbody tr th {\n",
              "        vertical-align: top;\n",
              "    }\n",
              "\n",
              "    .dataframe thead th {\n",
              "        text-align: right;\n",
              "    }\n",
              "</style>\n",
              "<table border=\"1\" class=\"dataframe\">\n",
              "  <thead>\n",
              "    <tr style=\"text-align: right;\">\n",
              "      <th></th>\n",
              "      <th>id</th>\n",
              "      <th>age</th>\n",
              "      <th>gender</th>\n",
              "      <th>height</th>\n",
              "      <th>weight</th>\n",
              "      <th>ap_hi</th>\n",
              "      <th>ap_lo</th>\n",
              "      <th>cholesterol</th>\n",
              "      <th>gluc</th>\n",
              "      <th>smoke</th>\n",
              "      <th>alco</th>\n",
              "      <th>active</th>\n",
              "      <th>cardio</th>\n",
              "      <th>BMI</th>\n",
              "    </tr>\n",
              "  </thead>\n",
              "  <tbody>\n",
              "    <tr>\n",
              "      <th>0</th>\n",
              "      <td>0</td>\n",
              "      <td>18393</td>\n",
              "      <td>2</td>\n",
              "      <td>1.68</td>\n",
              "      <td>62.0</td>\n",
              "      <td>110</td>\n",
              "      <td>80</td>\n",
              "      <td>1</td>\n",
              "      <td>1</td>\n",
              "      <td>0</td>\n",
              "      <td>0</td>\n",
              "      <td>1</td>\n",
              "      <td>0</td>\n",
              "      <td>36.904762</td>\n",
              "    </tr>\n",
              "    <tr>\n",
              "      <th>1</th>\n",
              "      <td>1</td>\n",
              "      <td>20228</td>\n",
              "      <td>1</td>\n",
              "      <td>1.56</td>\n",
              "      <td>85.0</td>\n",
              "      <td>140</td>\n",
              "      <td>90</td>\n",
              "      <td>3</td>\n",
              "      <td>1</td>\n",
              "      <td>0</td>\n",
              "      <td>0</td>\n",
              "      <td>1</td>\n",
              "      <td>1</td>\n",
              "      <td>54.487179</td>\n",
              "    </tr>\n",
              "    <tr>\n",
              "      <th>2</th>\n",
              "      <td>2</td>\n",
              "      <td>18857</td>\n",
              "      <td>1</td>\n",
              "      <td>1.65</td>\n",
              "      <td>64.0</td>\n",
              "      <td>130</td>\n",
              "      <td>70</td>\n",
              "      <td>3</td>\n",
              "      <td>1</td>\n",
              "      <td>0</td>\n",
              "      <td>0</td>\n",
              "      <td>0</td>\n",
              "      <td>1</td>\n",
              "      <td>38.787879</td>\n",
              "    </tr>\n",
              "    <tr>\n",
              "      <th>3</th>\n",
              "      <td>3</td>\n",
              "      <td>17623</td>\n",
              "      <td>2</td>\n",
              "      <td>1.69</td>\n",
              "      <td>82.0</td>\n",
              "      <td>150</td>\n",
              "      <td>100</td>\n",
              "      <td>1</td>\n",
              "      <td>1</td>\n",
              "      <td>0</td>\n",
              "      <td>0</td>\n",
              "      <td>1</td>\n",
              "      <td>1</td>\n",
              "      <td>48.520710</td>\n",
              "    </tr>\n",
              "    <tr>\n",
              "      <th>4</th>\n",
              "      <td>4</td>\n",
              "      <td>17474</td>\n",
              "      <td>1</td>\n",
              "      <td>1.56</td>\n",
              "      <td>56.0</td>\n",
              "      <td>100</td>\n",
              "      <td>60</td>\n",
              "      <td>1</td>\n",
              "      <td>1</td>\n",
              "      <td>0</td>\n",
              "      <td>0</td>\n",
              "      <td>0</td>\n",
              "      <td>0</td>\n",
              "      <td>35.897436</td>\n",
              "    </tr>\n",
              "  </tbody>\n",
              "</table>\n",
              "</div>\n",
              "      <button class=\"colab-df-convert\" onclick=\"convertToInteractive('df-0d3f2d56-4cf9-4dab-becb-2d7d4807a9ad')\"\n",
              "              title=\"Convert this dataframe to an interactive table.\"\n",
              "              style=\"display:none;\">\n",
              "        \n",
              "  <svg xmlns=\"http://www.w3.org/2000/svg\" height=\"24px\"viewBox=\"0 0 24 24\"\n",
              "       width=\"24px\">\n",
              "    <path d=\"M0 0h24v24H0V0z\" fill=\"none\"/>\n",
              "    <path d=\"M18.56 5.44l.94 2.06.94-2.06 2.06-.94-2.06-.94-.94-2.06-.94 2.06-2.06.94zm-11 1L8.5 8.5l.94-2.06 2.06-.94-2.06-.94L8.5 2.5l-.94 2.06-2.06.94zm10 10l.94 2.06.94-2.06 2.06-.94-2.06-.94-.94-2.06-.94 2.06-2.06.94z\"/><path d=\"M17.41 7.96l-1.37-1.37c-.4-.4-.92-.59-1.43-.59-.52 0-1.04.2-1.43.59L10.3 9.45l-7.72 7.72c-.78.78-.78 2.05 0 2.83L4 21.41c.39.39.9.59 1.41.59.51 0 1.02-.2 1.41-.59l7.78-7.78 2.81-2.81c.8-.78.8-2.07 0-2.86zM5.41 20L4 18.59l7.72-7.72 1.47 1.35L5.41 20z\"/>\n",
              "  </svg>\n",
              "      </button>\n",
              "      \n",
              "  <style>\n",
              "    .colab-df-container {\n",
              "      display:flex;\n",
              "      flex-wrap:wrap;\n",
              "      gap: 12px;\n",
              "    }\n",
              "\n",
              "    .colab-df-convert {\n",
              "      background-color: #E8F0FE;\n",
              "      border: none;\n",
              "      border-radius: 50%;\n",
              "      cursor: pointer;\n",
              "      display: none;\n",
              "      fill: #1967D2;\n",
              "      height: 32px;\n",
              "      padding: 0 0 0 0;\n",
              "      width: 32px;\n",
              "    }\n",
              "\n",
              "    .colab-df-convert:hover {\n",
              "      background-color: #E2EBFA;\n",
              "      box-shadow: 0px 1px 2px rgba(60, 64, 67, 0.3), 0px 1px 3px 1px rgba(60, 64, 67, 0.15);\n",
              "      fill: #174EA6;\n",
              "    }\n",
              "\n",
              "    [theme=dark] .colab-df-convert {\n",
              "      background-color: #3B4455;\n",
              "      fill: #D2E3FC;\n",
              "    }\n",
              "\n",
              "    [theme=dark] .colab-df-convert:hover {\n",
              "      background-color: #434B5C;\n",
              "      box-shadow: 0px 1px 3px 1px rgba(0, 0, 0, 0.15);\n",
              "      filter: drop-shadow(0px 1px 2px rgba(0, 0, 0, 0.3));\n",
              "      fill: #FFFFFF;\n",
              "    }\n",
              "  </style>\n",
              "\n",
              "      <script>\n",
              "        const buttonEl =\n",
              "          document.querySelector('#df-0d3f2d56-4cf9-4dab-becb-2d7d4807a9ad button.colab-df-convert');\n",
              "        buttonEl.style.display =\n",
              "          google.colab.kernel.accessAllowed ? 'block' : 'none';\n",
              "\n",
              "        async function convertToInteractive(key) {\n",
              "          const element = document.querySelector('#df-0d3f2d56-4cf9-4dab-becb-2d7d4807a9ad');\n",
              "          const dataTable =\n",
              "            await google.colab.kernel.invokeFunction('convertToInteractive',\n",
              "                                                     [key], {});\n",
              "          if (!dataTable) return;\n",
              "\n",
              "          const docLinkHtml = 'Like what you see? Visit the ' +\n",
              "            '<a target=\"_blank\" href=https://colab.research.google.com/notebooks/data_table.ipynb>data table notebook</a>'\n",
              "            + ' to learn more about interactive tables.';\n",
              "          element.innerHTML = '';\n",
              "          dataTable['output_type'] = 'display_data';\n",
              "          await google.colab.output.renderOutput(dataTable, element);\n",
              "          const docLink = document.createElement('div');\n",
              "          docLink.innerHTML = docLinkHtml;\n",
              "          element.appendChild(docLink);\n",
              "        }\n",
              "      </script>\n",
              "    </div>\n",
              "  </div>\n",
              "  "
            ],
            "text/plain": [
              "   id    age  gender  height  weight  ...  smoke  alco  active  cardio        BMI\n",
              "0   0  18393       2    1.68    62.0  ...      0     0       1       0  36.904762\n",
              "1   1  20228       1    1.56    85.0  ...      0     0       1       1  54.487179\n",
              "2   2  18857       1    1.65    64.0  ...      0     0       0       1  38.787879\n",
              "3   3  17623       2    1.69    82.0  ...      0     0       1       1  48.520710\n",
              "4   4  17474       1    1.56    56.0  ...      0     0       0       0  35.897436\n",
              "\n",
              "[5 rows x 14 columns]"
            ]
          },
          "metadata": {},
          "execution_count": 6
        }
      ]
    },
    {
      "cell_type": "code",
      "source": [
        "# adding an overweight column\n",
        "df['Overweight'] = 0\n",
        "\n",
        "# example_df.loc[example_df[\"column_name1\"] condition, \"column_name2\"] = value\n",
        "df.loc[df[\"BMI\"] >25 , \"Overweight\"] = 1\n",
        "df.head()"
      ],
      "metadata": {
        "colab": {
          "base_uri": "https://localhost:8080/"
        },
        "id": "HYKWfL2wNkG0",
        "outputId": "c209cd1d-268f-41d0-a9e7-6cc97ab3207a"
      },
      "execution_count": null,
      "outputs": [
        {
          "output_type": "execute_result",
          "data": {
            "text/html": [
              "\n",
              "  <div id=\"df-ab7288c3-746e-453e-af90-73a1be438e8d\">\n",
              "    <div class=\"colab-df-container\">\n",
              "      <div>\n",
              "<style scoped>\n",
              "    .dataframe tbody tr th:only-of-type {\n",
              "        vertical-align: middle;\n",
              "    }\n",
              "\n",
              "    .dataframe tbody tr th {\n",
              "        vertical-align: top;\n",
              "    }\n",
              "\n",
              "    .dataframe thead th {\n",
              "        text-align: right;\n",
              "    }\n",
              "</style>\n",
              "<table border=\"1\" class=\"dataframe\">\n",
              "  <thead>\n",
              "    <tr style=\"text-align: right;\">\n",
              "      <th></th>\n",
              "      <th>id</th>\n",
              "      <th>age</th>\n",
              "      <th>gender</th>\n",
              "      <th>height</th>\n",
              "      <th>weight</th>\n",
              "      <th>ap_hi</th>\n",
              "      <th>ap_lo</th>\n",
              "      <th>cholesterol</th>\n",
              "      <th>gluc</th>\n",
              "      <th>smoke</th>\n",
              "      <th>alco</th>\n",
              "      <th>active</th>\n",
              "      <th>cardio</th>\n",
              "      <th>BMI</th>\n",
              "      <th>Overweight</th>\n",
              "    </tr>\n",
              "  </thead>\n",
              "  <tbody>\n",
              "    <tr>\n",
              "      <th>0</th>\n",
              "      <td>0</td>\n",
              "      <td>18393</td>\n",
              "      <td>2</td>\n",
              "      <td>1.68</td>\n",
              "      <td>62.0</td>\n",
              "      <td>110</td>\n",
              "      <td>80</td>\n",
              "      <td>1</td>\n",
              "      <td>1</td>\n",
              "      <td>0</td>\n",
              "      <td>0</td>\n",
              "      <td>1</td>\n",
              "      <td>0</td>\n",
              "      <td>36.904762</td>\n",
              "      <td>1</td>\n",
              "    </tr>\n",
              "    <tr>\n",
              "      <th>1</th>\n",
              "      <td>1</td>\n",
              "      <td>20228</td>\n",
              "      <td>1</td>\n",
              "      <td>1.56</td>\n",
              "      <td>85.0</td>\n",
              "      <td>140</td>\n",
              "      <td>90</td>\n",
              "      <td>3</td>\n",
              "      <td>1</td>\n",
              "      <td>0</td>\n",
              "      <td>0</td>\n",
              "      <td>1</td>\n",
              "      <td>1</td>\n",
              "      <td>54.487179</td>\n",
              "      <td>1</td>\n",
              "    </tr>\n",
              "    <tr>\n",
              "      <th>2</th>\n",
              "      <td>2</td>\n",
              "      <td>18857</td>\n",
              "      <td>1</td>\n",
              "      <td>1.65</td>\n",
              "      <td>64.0</td>\n",
              "      <td>130</td>\n",
              "      <td>70</td>\n",
              "      <td>3</td>\n",
              "      <td>1</td>\n",
              "      <td>0</td>\n",
              "      <td>0</td>\n",
              "      <td>0</td>\n",
              "      <td>1</td>\n",
              "      <td>38.787879</td>\n",
              "      <td>1</td>\n",
              "    </tr>\n",
              "    <tr>\n",
              "      <th>3</th>\n",
              "      <td>3</td>\n",
              "      <td>17623</td>\n",
              "      <td>2</td>\n",
              "      <td>1.69</td>\n",
              "      <td>82.0</td>\n",
              "      <td>150</td>\n",
              "      <td>100</td>\n",
              "      <td>1</td>\n",
              "      <td>1</td>\n",
              "      <td>0</td>\n",
              "      <td>0</td>\n",
              "      <td>1</td>\n",
              "      <td>1</td>\n",
              "      <td>48.520710</td>\n",
              "      <td>1</td>\n",
              "    </tr>\n",
              "    <tr>\n",
              "      <th>4</th>\n",
              "      <td>4</td>\n",
              "      <td>17474</td>\n",
              "      <td>1</td>\n",
              "      <td>1.56</td>\n",
              "      <td>56.0</td>\n",
              "      <td>100</td>\n",
              "      <td>60</td>\n",
              "      <td>1</td>\n",
              "      <td>1</td>\n",
              "      <td>0</td>\n",
              "      <td>0</td>\n",
              "      <td>0</td>\n",
              "      <td>0</td>\n",
              "      <td>35.897436</td>\n",
              "      <td>1</td>\n",
              "    </tr>\n",
              "  </tbody>\n",
              "</table>\n",
              "</div>\n",
              "      <button class=\"colab-df-convert\" onclick=\"convertToInteractive('df-ab7288c3-746e-453e-af90-73a1be438e8d')\"\n",
              "              title=\"Convert this dataframe to an interactive table.\"\n",
              "              style=\"display:none;\">\n",
              "        \n",
              "  <svg xmlns=\"http://www.w3.org/2000/svg\" height=\"24px\"viewBox=\"0 0 24 24\"\n",
              "       width=\"24px\">\n",
              "    <path d=\"M0 0h24v24H0V0z\" fill=\"none\"/>\n",
              "    <path d=\"M18.56 5.44l.94 2.06.94-2.06 2.06-.94-2.06-.94-.94-2.06-.94 2.06-2.06.94zm-11 1L8.5 8.5l.94-2.06 2.06-.94-2.06-.94L8.5 2.5l-.94 2.06-2.06.94zm10 10l.94 2.06.94-2.06 2.06-.94-2.06-.94-.94-2.06-.94 2.06-2.06.94z\"/><path d=\"M17.41 7.96l-1.37-1.37c-.4-.4-.92-.59-1.43-.59-.52 0-1.04.2-1.43.59L10.3 9.45l-7.72 7.72c-.78.78-.78 2.05 0 2.83L4 21.41c.39.39.9.59 1.41.59.51 0 1.02-.2 1.41-.59l7.78-7.78 2.81-2.81c.8-.78.8-2.07 0-2.86zM5.41 20L4 18.59l7.72-7.72 1.47 1.35L5.41 20z\"/>\n",
              "  </svg>\n",
              "      </button>\n",
              "      \n",
              "  <style>\n",
              "    .colab-df-container {\n",
              "      display:flex;\n",
              "      flex-wrap:wrap;\n",
              "      gap: 12px;\n",
              "    }\n",
              "\n",
              "    .colab-df-convert {\n",
              "      background-color: #E8F0FE;\n",
              "      border: none;\n",
              "      border-radius: 50%;\n",
              "      cursor: pointer;\n",
              "      display: none;\n",
              "      fill: #1967D2;\n",
              "      height: 32px;\n",
              "      padding: 0 0 0 0;\n",
              "      width: 32px;\n",
              "    }\n",
              "\n",
              "    .colab-df-convert:hover {\n",
              "      background-color: #E2EBFA;\n",
              "      box-shadow: 0px 1px 2px rgba(60, 64, 67, 0.3), 0px 1px 3px 1px rgba(60, 64, 67, 0.15);\n",
              "      fill: #174EA6;\n",
              "    }\n",
              "\n",
              "    [theme=dark] .colab-df-convert {\n",
              "      background-color: #3B4455;\n",
              "      fill: #D2E3FC;\n",
              "    }\n",
              "\n",
              "    [theme=dark] .colab-df-convert:hover {\n",
              "      background-color: #434B5C;\n",
              "      box-shadow: 0px 1px 3px 1px rgba(0, 0, 0, 0.15);\n",
              "      filter: drop-shadow(0px 1px 2px rgba(0, 0, 0, 0.3));\n",
              "      fill: #FFFFFF;\n",
              "    }\n",
              "  </style>\n",
              "\n",
              "      <script>\n",
              "        const buttonEl =\n",
              "          document.querySelector('#df-ab7288c3-746e-453e-af90-73a1be438e8d button.colab-df-convert');\n",
              "        buttonEl.style.display =\n",
              "          google.colab.kernel.accessAllowed ? 'block' : 'none';\n",
              "\n",
              "        async function convertToInteractive(key) {\n",
              "          const element = document.querySelector('#df-ab7288c3-746e-453e-af90-73a1be438e8d');\n",
              "          const dataTable =\n",
              "            await google.colab.kernel.invokeFunction('convertToInteractive',\n",
              "                                                     [key], {});\n",
              "          if (!dataTable) return;\n",
              "\n",
              "          const docLinkHtml = 'Like what you see? Visit the ' +\n",
              "            '<a target=\"_blank\" href=https://colab.research.google.com/notebooks/data_table.ipynb>data table notebook</a>'\n",
              "            + ' to learn more about interactive tables.';\n",
              "          element.innerHTML = '';\n",
              "          dataTable['output_type'] = 'display_data';\n",
              "          await google.colab.output.renderOutput(dataTable, element);\n",
              "          const docLink = document.createElement('div');\n",
              "          docLink.innerHTML = docLinkHtml;\n",
              "          element.appendChild(docLink);\n",
              "        }\n",
              "      </script>\n",
              "    </div>\n",
              "  </div>\n",
              "  "
            ],
            "text/plain": [
              "   id    age  gender  height  ...  active  cardio        BMI  Overweight\n",
              "0   0  18393       2    1.68  ...       1       0  36.904762           1\n",
              "1   1  20228       1    1.56  ...       1       1  54.487179           1\n",
              "2   2  18857       1    1.65  ...       0       1  38.787879           1\n",
              "3   3  17623       2    1.69  ...       1       1  48.520710           1\n",
              "4   4  17474       1    1.56  ...       0       0  35.897436           1\n",
              "\n",
              "[5 rows x 15 columns]"
            ]
          },
          "metadata": {},
          "execution_count": 7
        }
      ]
    },
    {
      "cell_type": "markdown",
      "source": [
        "#### **Question 3**\n",
        "\n",
        "Normalize the data by making 0 always good and 1 always bad. If the value of cholesterol or gluc is 1, make the value 0. If the value is more than 1, make the value 1."
      ],
      "metadata": {
        "id": "8LEQLaFSPj_1"
      }
    },
    {
      "cell_type": "code",
      "source": [
        "df['cholesterol'].value_counts()"
      ],
      "metadata": {
        "colab": {
          "base_uri": "https://localhost:8080/"
        },
        "id": "LmAfSSXthm_m",
        "outputId": "bf759c71-64ce-461b-b477-7511d65af7f0"
      },
      "execution_count": null,
      "outputs": [
        {
          "output_type": "execute_result",
          "data": {
            "text/plain": [
              "1    52385\n",
              "2     9549\n",
              "3     8066\n",
              "Name: cholesterol, dtype: int64"
            ]
          },
          "metadata": {},
          "execution_count": 8
        }
      ]
    },
    {
      "cell_type": "code",
      "source": [
        "df['gluc'].value_counts()"
      ],
      "metadata": {
        "colab": {
          "base_uri": "https://localhost:8080/"
        },
        "id": "bYRYfKwTjiRO",
        "outputId": "0dca1d20-59f5-4e72-81b8-5d960e223cb4"
      },
      "execution_count": null,
      "outputs": [
        {
          "output_type": "execute_result",
          "data": {
            "text/plain": [
              "1    59479\n",
              "3     5331\n",
              "2     5190\n",
              "Name: gluc, dtype: int64"
            ]
          },
          "metadata": {},
          "execution_count": 9
        }
      ]
    },
    {
      "cell_type": "markdown",
      "source": [
        "Normalization - "
      ],
      "metadata": {
        "id": "xAf0IvNuj0cW"
      }
    },
    {
      "cell_type": "code",
      "source": [
        "df.loc[df['cholesterol'] == 1, 'cholesterol'] = 0\n",
        "df.loc[df['cholesterol'] >=2 , 'cholesterol'] = 1"
      ],
      "metadata": {
        "id": "u1HfDHcVPieH"
      },
      "execution_count": null,
      "outputs": []
    },
    {
      "cell_type": "code",
      "source": [
        "df.loc[df['gluc'] == 1, 'gluc'] = 0\n",
        "df.loc[df['gluc'] >=2 , 'gluc'] = 1"
      ],
      "metadata": {
        "id": "1TRfBkh0jRCf"
      },
      "execution_count": null,
      "outputs": []
    },
    {
      "cell_type": "markdown",
      "source": [
        "After normalization - "
      ],
      "metadata": {
        "id": "UJSu8N6bjv0O"
      }
    },
    {
      "cell_type": "code",
      "source": [
        "df['cholesterol'].value_counts()"
      ],
      "metadata": {
        "colab": {
          "base_uri": "https://localhost:8080/"
        },
        "id": "R4zTlwtrh-c4",
        "outputId": "811484d8-b3d0-40ed-b9c8-1cf02a242da8"
      },
      "execution_count": null,
      "outputs": [
        {
          "output_type": "execute_result",
          "data": {
            "text/plain": [
              "0    52385\n",
              "1    17615\n",
              "Name: cholesterol, dtype: int64"
            ]
          },
          "metadata": {},
          "execution_count": 12
        }
      ]
    },
    {
      "cell_type": "code",
      "source": [
        "df['gluc'].value_counts()"
      ],
      "metadata": {
        "colab": {
          "base_uri": "https://localhost:8080/"
        },
        "id": "F1YHDucejo9W",
        "outputId": "3bb0357f-9adf-47ac-96c3-08ea7f823ca4"
      },
      "execution_count": null,
      "outputs": [
        {
          "output_type": "execute_result",
          "data": {
            "text/plain": [
              "0    59479\n",
              "1    10521\n",
              "Name: gluc, dtype: int64"
            ]
          },
          "metadata": {},
          "execution_count": 13
        }
      ]
    },
    {
      "cell_type": "code",
      "source": [
        "df.head()"
      ],
      "metadata": {
        "colab": {
          "base_uri": "https://localhost:8080/"
        },
        "id": "90avaxUYj3eu",
        "outputId": "a9c14bf6-c640-42dc-cd5e-65640a01969e"
      },
      "execution_count": null,
      "outputs": [
        {
          "output_type": "execute_result",
          "data": {
            "text/html": [
              "\n",
              "  <div id=\"df-6c9aeea6-cd21-4e0c-a784-e3207947486c\">\n",
              "    <div class=\"colab-df-container\">\n",
              "      <div>\n",
              "<style scoped>\n",
              "    .dataframe tbody tr th:only-of-type {\n",
              "        vertical-align: middle;\n",
              "    }\n",
              "\n",
              "    .dataframe tbody tr th {\n",
              "        vertical-align: top;\n",
              "    }\n",
              "\n",
              "    .dataframe thead th {\n",
              "        text-align: right;\n",
              "    }\n",
              "</style>\n",
              "<table border=\"1\" class=\"dataframe\">\n",
              "  <thead>\n",
              "    <tr style=\"text-align: right;\">\n",
              "      <th></th>\n",
              "      <th>id</th>\n",
              "      <th>age</th>\n",
              "      <th>gender</th>\n",
              "      <th>height</th>\n",
              "      <th>weight</th>\n",
              "      <th>ap_hi</th>\n",
              "      <th>ap_lo</th>\n",
              "      <th>cholesterol</th>\n",
              "      <th>gluc</th>\n",
              "      <th>smoke</th>\n",
              "      <th>alco</th>\n",
              "      <th>active</th>\n",
              "      <th>cardio</th>\n",
              "      <th>BMI</th>\n",
              "      <th>Overweight</th>\n",
              "    </tr>\n",
              "  </thead>\n",
              "  <tbody>\n",
              "    <tr>\n",
              "      <th>0</th>\n",
              "      <td>0</td>\n",
              "      <td>18393</td>\n",
              "      <td>2</td>\n",
              "      <td>1.68</td>\n",
              "      <td>62.0</td>\n",
              "      <td>110</td>\n",
              "      <td>80</td>\n",
              "      <td>0</td>\n",
              "      <td>0</td>\n",
              "      <td>0</td>\n",
              "      <td>0</td>\n",
              "      <td>1</td>\n",
              "      <td>0</td>\n",
              "      <td>36.904762</td>\n",
              "      <td>1</td>\n",
              "    </tr>\n",
              "    <tr>\n",
              "      <th>1</th>\n",
              "      <td>1</td>\n",
              "      <td>20228</td>\n",
              "      <td>1</td>\n",
              "      <td>1.56</td>\n",
              "      <td>85.0</td>\n",
              "      <td>140</td>\n",
              "      <td>90</td>\n",
              "      <td>1</td>\n",
              "      <td>0</td>\n",
              "      <td>0</td>\n",
              "      <td>0</td>\n",
              "      <td>1</td>\n",
              "      <td>1</td>\n",
              "      <td>54.487179</td>\n",
              "      <td>1</td>\n",
              "    </tr>\n",
              "    <tr>\n",
              "      <th>2</th>\n",
              "      <td>2</td>\n",
              "      <td>18857</td>\n",
              "      <td>1</td>\n",
              "      <td>1.65</td>\n",
              "      <td>64.0</td>\n",
              "      <td>130</td>\n",
              "      <td>70</td>\n",
              "      <td>1</td>\n",
              "      <td>0</td>\n",
              "      <td>0</td>\n",
              "      <td>0</td>\n",
              "      <td>0</td>\n",
              "      <td>1</td>\n",
              "      <td>38.787879</td>\n",
              "      <td>1</td>\n",
              "    </tr>\n",
              "    <tr>\n",
              "      <th>3</th>\n",
              "      <td>3</td>\n",
              "      <td>17623</td>\n",
              "      <td>2</td>\n",
              "      <td>1.69</td>\n",
              "      <td>82.0</td>\n",
              "      <td>150</td>\n",
              "      <td>100</td>\n",
              "      <td>0</td>\n",
              "      <td>0</td>\n",
              "      <td>0</td>\n",
              "      <td>0</td>\n",
              "      <td>1</td>\n",
              "      <td>1</td>\n",
              "      <td>48.520710</td>\n",
              "      <td>1</td>\n",
              "    </tr>\n",
              "    <tr>\n",
              "      <th>4</th>\n",
              "      <td>4</td>\n",
              "      <td>17474</td>\n",
              "      <td>1</td>\n",
              "      <td>1.56</td>\n",
              "      <td>56.0</td>\n",
              "      <td>100</td>\n",
              "      <td>60</td>\n",
              "      <td>0</td>\n",
              "      <td>0</td>\n",
              "      <td>0</td>\n",
              "      <td>0</td>\n",
              "      <td>0</td>\n",
              "      <td>0</td>\n",
              "      <td>35.897436</td>\n",
              "      <td>1</td>\n",
              "    </tr>\n",
              "  </tbody>\n",
              "</table>\n",
              "</div>\n",
              "      <button class=\"colab-df-convert\" onclick=\"convertToInteractive('df-6c9aeea6-cd21-4e0c-a784-e3207947486c')\"\n",
              "              title=\"Convert this dataframe to an interactive table.\"\n",
              "              style=\"display:none;\">\n",
              "        \n",
              "  <svg xmlns=\"http://www.w3.org/2000/svg\" height=\"24px\"viewBox=\"0 0 24 24\"\n",
              "       width=\"24px\">\n",
              "    <path d=\"M0 0h24v24H0V0z\" fill=\"none\"/>\n",
              "    <path d=\"M18.56 5.44l.94 2.06.94-2.06 2.06-.94-2.06-.94-.94-2.06-.94 2.06-2.06.94zm-11 1L8.5 8.5l.94-2.06 2.06-.94-2.06-.94L8.5 2.5l-.94 2.06-2.06.94zm10 10l.94 2.06.94-2.06 2.06-.94-2.06-.94-.94-2.06-.94 2.06-2.06.94z\"/><path d=\"M17.41 7.96l-1.37-1.37c-.4-.4-.92-.59-1.43-.59-.52 0-1.04.2-1.43.59L10.3 9.45l-7.72 7.72c-.78.78-.78 2.05 0 2.83L4 21.41c.39.39.9.59 1.41.59.51 0 1.02-.2 1.41-.59l7.78-7.78 2.81-2.81c.8-.78.8-2.07 0-2.86zM5.41 20L4 18.59l7.72-7.72 1.47 1.35L5.41 20z\"/>\n",
              "  </svg>\n",
              "      </button>\n",
              "      \n",
              "  <style>\n",
              "    .colab-df-container {\n",
              "      display:flex;\n",
              "      flex-wrap:wrap;\n",
              "      gap: 12px;\n",
              "    }\n",
              "\n",
              "    .colab-df-convert {\n",
              "      background-color: #E8F0FE;\n",
              "      border: none;\n",
              "      border-radius: 50%;\n",
              "      cursor: pointer;\n",
              "      display: none;\n",
              "      fill: #1967D2;\n",
              "      height: 32px;\n",
              "      padding: 0 0 0 0;\n",
              "      width: 32px;\n",
              "    }\n",
              "\n",
              "    .colab-df-convert:hover {\n",
              "      background-color: #E2EBFA;\n",
              "      box-shadow: 0px 1px 2px rgba(60, 64, 67, 0.3), 0px 1px 3px 1px rgba(60, 64, 67, 0.15);\n",
              "      fill: #174EA6;\n",
              "    }\n",
              "\n",
              "    [theme=dark] .colab-df-convert {\n",
              "      background-color: #3B4455;\n",
              "      fill: #D2E3FC;\n",
              "    }\n",
              "\n",
              "    [theme=dark] .colab-df-convert:hover {\n",
              "      background-color: #434B5C;\n",
              "      box-shadow: 0px 1px 3px 1px rgba(0, 0, 0, 0.15);\n",
              "      filter: drop-shadow(0px 1px 2px rgba(0, 0, 0, 0.3));\n",
              "      fill: #FFFFFF;\n",
              "    }\n",
              "  </style>\n",
              "\n",
              "      <script>\n",
              "        const buttonEl =\n",
              "          document.querySelector('#df-6c9aeea6-cd21-4e0c-a784-e3207947486c button.colab-df-convert');\n",
              "        buttonEl.style.display =\n",
              "          google.colab.kernel.accessAllowed ? 'block' : 'none';\n",
              "\n",
              "        async function convertToInteractive(key) {\n",
              "          const element = document.querySelector('#df-6c9aeea6-cd21-4e0c-a784-e3207947486c');\n",
              "          const dataTable =\n",
              "            await google.colab.kernel.invokeFunction('convertToInteractive',\n",
              "                                                     [key], {});\n",
              "          if (!dataTable) return;\n",
              "\n",
              "          const docLinkHtml = 'Like what you see? Visit the ' +\n",
              "            '<a target=\"_blank\" href=https://colab.research.google.com/notebooks/data_table.ipynb>data table notebook</a>'\n",
              "            + ' to learn more about interactive tables.';\n",
              "          element.innerHTML = '';\n",
              "          dataTable['output_type'] = 'display_data';\n",
              "          await google.colab.output.renderOutput(dataTable, element);\n",
              "          const docLink = document.createElement('div');\n",
              "          docLink.innerHTML = docLinkHtml;\n",
              "          element.appendChild(docLink);\n",
              "        }\n",
              "      </script>\n",
              "    </div>\n",
              "  </div>\n",
              "  "
            ],
            "text/plain": [
              "   id    age  gender  height  ...  active  cardio        BMI  Overweight\n",
              "0   0  18393       2    1.68  ...       1       0  36.904762           1\n",
              "1   1  20228       1    1.56  ...       1       1  54.487179           1\n",
              "2   2  18857       1    1.65  ...       0       1  38.787879           1\n",
              "3   3  17623       2    1.69  ...       1       1  48.520710           1\n",
              "4   4  17474       1    1.56  ...       0       0  35.897436           1\n",
              "\n",
              "[5 rows x 15 columns]"
            ]
          },
          "metadata": {},
          "execution_count": 14
        }
      ]
    },
    {
      "cell_type": "markdown",
      "source": [
        "#### **Question 4**\n",
        "\n",
        "Convert the data into long format and create a chart that shows the value counts of the categorical features using seaborn's catplot(). The dataset should be split by 'Cardio' so there is one chart for each cardio value. The chart should look like bar chart."
      ],
      "metadata": {
        "id": "PgwO3NjDj7x6"
      }
    },
    {
      "cell_type": "code",
      "source": [
        "df1 = pd.melt(df, id_vars=['cardio'], value_vars=['active', 'alco', 'cholesterol', 'gluc', 'Overweight', 'smoke'])\n",
        "df1.head()"
      ],
      "metadata": {
        "colab": {
          "base_uri": "https://localhost:8080/"
        },
        "id": "sZ8olFN1kUWK",
        "outputId": "7b83aae2-d2ad-4c17-9610-b1017ef81baa"
      },
      "execution_count": null,
      "outputs": [
        {
          "output_type": "execute_result",
          "data": {
            "text/html": [
              "\n",
              "  <div id=\"df-ad1d36a7-97cf-4458-851b-848428ba14f5\">\n",
              "    <div class=\"colab-df-container\">\n",
              "      <div>\n",
              "<style scoped>\n",
              "    .dataframe tbody tr th:only-of-type {\n",
              "        vertical-align: middle;\n",
              "    }\n",
              "\n",
              "    .dataframe tbody tr th {\n",
              "        vertical-align: top;\n",
              "    }\n",
              "\n",
              "    .dataframe thead th {\n",
              "        text-align: right;\n",
              "    }\n",
              "</style>\n",
              "<table border=\"1\" class=\"dataframe\">\n",
              "  <thead>\n",
              "    <tr style=\"text-align: right;\">\n",
              "      <th></th>\n",
              "      <th>cardio</th>\n",
              "      <th>variable</th>\n",
              "      <th>value</th>\n",
              "    </tr>\n",
              "  </thead>\n",
              "  <tbody>\n",
              "    <tr>\n",
              "      <th>0</th>\n",
              "      <td>0</td>\n",
              "      <td>active</td>\n",
              "      <td>1</td>\n",
              "    </tr>\n",
              "    <tr>\n",
              "      <th>1</th>\n",
              "      <td>1</td>\n",
              "      <td>active</td>\n",
              "      <td>1</td>\n",
              "    </tr>\n",
              "    <tr>\n",
              "      <th>2</th>\n",
              "      <td>1</td>\n",
              "      <td>active</td>\n",
              "      <td>0</td>\n",
              "    </tr>\n",
              "    <tr>\n",
              "      <th>3</th>\n",
              "      <td>1</td>\n",
              "      <td>active</td>\n",
              "      <td>1</td>\n",
              "    </tr>\n",
              "    <tr>\n",
              "      <th>4</th>\n",
              "      <td>0</td>\n",
              "      <td>active</td>\n",
              "      <td>0</td>\n",
              "    </tr>\n",
              "  </tbody>\n",
              "</table>\n",
              "</div>\n",
              "      <button class=\"colab-df-convert\" onclick=\"convertToInteractive('df-ad1d36a7-97cf-4458-851b-848428ba14f5')\"\n",
              "              title=\"Convert this dataframe to an interactive table.\"\n",
              "              style=\"display:none;\">\n",
              "        \n",
              "  <svg xmlns=\"http://www.w3.org/2000/svg\" height=\"24px\"viewBox=\"0 0 24 24\"\n",
              "       width=\"24px\">\n",
              "    <path d=\"M0 0h24v24H0V0z\" fill=\"none\"/>\n",
              "    <path d=\"M18.56 5.44l.94 2.06.94-2.06 2.06-.94-2.06-.94-.94-2.06-.94 2.06-2.06.94zm-11 1L8.5 8.5l.94-2.06 2.06-.94-2.06-.94L8.5 2.5l-.94 2.06-2.06.94zm10 10l.94 2.06.94-2.06 2.06-.94-2.06-.94-.94-2.06-.94 2.06-2.06.94z\"/><path d=\"M17.41 7.96l-1.37-1.37c-.4-.4-.92-.59-1.43-.59-.52 0-1.04.2-1.43.59L10.3 9.45l-7.72 7.72c-.78.78-.78 2.05 0 2.83L4 21.41c.39.39.9.59 1.41.59.51 0 1.02-.2 1.41-.59l7.78-7.78 2.81-2.81c.8-.78.8-2.07 0-2.86zM5.41 20L4 18.59l7.72-7.72 1.47 1.35L5.41 20z\"/>\n",
              "  </svg>\n",
              "      </button>\n",
              "      \n",
              "  <style>\n",
              "    .colab-df-container {\n",
              "      display:flex;\n",
              "      flex-wrap:wrap;\n",
              "      gap: 12px;\n",
              "    }\n",
              "\n",
              "    .colab-df-convert {\n",
              "      background-color: #E8F0FE;\n",
              "      border: none;\n",
              "      border-radius: 50%;\n",
              "      cursor: pointer;\n",
              "      display: none;\n",
              "      fill: #1967D2;\n",
              "      height: 32px;\n",
              "      padding: 0 0 0 0;\n",
              "      width: 32px;\n",
              "    }\n",
              "\n",
              "    .colab-df-convert:hover {\n",
              "      background-color: #E2EBFA;\n",
              "      box-shadow: 0px 1px 2px rgba(60, 64, 67, 0.3), 0px 1px 3px 1px rgba(60, 64, 67, 0.15);\n",
              "      fill: #174EA6;\n",
              "    }\n",
              "\n",
              "    [theme=dark] .colab-df-convert {\n",
              "      background-color: #3B4455;\n",
              "      fill: #D2E3FC;\n",
              "    }\n",
              "\n",
              "    [theme=dark] .colab-df-convert:hover {\n",
              "      background-color: #434B5C;\n",
              "      box-shadow: 0px 1px 3px 1px rgba(0, 0, 0, 0.15);\n",
              "      filter: drop-shadow(0px 1px 2px rgba(0, 0, 0, 0.3));\n",
              "      fill: #FFFFFF;\n",
              "    }\n",
              "  </style>\n",
              "\n",
              "      <script>\n",
              "        const buttonEl =\n",
              "          document.querySelector('#df-ad1d36a7-97cf-4458-851b-848428ba14f5 button.colab-df-convert');\n",
              "        buttonEl.style.display =\n",
              "          google.colab.kernel.accessAllowed ? 'block' : 'none';\n",
              "\n",
              "        async function convertToInteractive(key) {\n",
              "          const element = document.querySelector('#df-ad1d36a7-97cf-4458-851b-848428ba14f5');\n",
              "          const dataTable =\n",
              "            await google.colab.kernel.invokeFunction('convertToInteractive',\n",
              "                                                     [key], {});\n",
              "          if (!dataTable) return;\n",
              "\n",
              "          const docLinkHtml = 'Like what you see? Visit the ' +\n",
              "            '<a target=\"_blank\" href=https://colab.research.google.com/notebooks/data_table.ipynb>data table notebook</a>'\n",
              "            + ' to learn more about interactive tables.';\n",
              "          element.innerHTML = '';\n",
              "          dataTable['output_type'] = 'display_data';\n",
              "          await google.colab.output.renderOutput(dataTable, element);\n",
              "          const docLink = document.createElement('div');\n",
              "          docLink.innerHTML = docLinkHtml;\n",
              "          element.appendChild(docLink);\n",
              "        }\n",
              "      </script>\n",
              "    </div>\n",
              "  </div>\n",
              "  "
            ],
            "text/plain": [
              "   cardio variable  value\n",
              "0       0   active      1\n",
              "1       1   active      1\n",
              "2       1   active      0\n",
              "3       1   active      1\n",
              "4       0   active      0"
            ]
          },
          "metadata": {},
          "execution_count": 15
        }
      ]
    },
    {
      "cell_type": "code",
      "source": [
        "sb.catplot(x='variable',hue='cardio', data=df1, kind='count')"
      ],
      "metadata": {
        "colab": {
          "base_uri": "https://localhost:8080/"
        },
        "id": "JIfP4JYZwPp1",
        "outputId": "46ad7b87-30f3-4597-c1c1-cb891270d74f"
      },
      "execution_count": null,
      "outputs": [
        {
          "output_type": "execute_result",
          "data": {
            "text/plain": [
              "<seaborn.axisgrid.FacetGrid at 0x7f2840464950>"
            ]
          },
          "metadata": {},
          "execution_count": 16
        },
        {
          "output_type": "display_data",
          "data": {
            "image/png": "[encoded data removed]",
            "text/plain": [
              "<Figure size 402.375x360 with 1 Axes>"
            ]
          },
          "metadata": {
            "needs_background": "light"
          }
        }
      ]
    },
    {
      "cell_type": "markdown",
      "source": [
        "#### **Question 5**\n",
        "\n",
        "Clean the data. Filter out the following patient segments that represent incorrect data:\n",
        "1. diastolic pressure is higher than systolic (Keep the correct data with (df['ap_lo'] <= df['ap_hi']))\n",
        "2. height is less than the 2.5th percentile (Keep the correct data with (df['height'] >= df['height'].quantile(0.025)))\n",
        "3. height is more than the 97.5th percentile\n",
        "4. weight is less than the 2.5th percentile\n",
        "5. weight is more than the 97.5th percentile"
      ],
      "metadata": {
        "id": "lXmJAgb3yUOK"
      }
    },
    {
      "cell_type": "code",
      "source": [
        "df.shape"
      ],
      "metadata": {
        "colab": {
          "base_uri": "https://localhost:8080/"
        },
        "id": "a6xl_9d8yvkJ",
        "outputId": "97aa4b83-877e-4e9b-ac45-7276b75efe66"
      },
      "execution_count": null,
      "outputs": [
        {
          "output_type": "execute_result",
          "data": {
            "text/plain": [
              "(70000, 15)"
            ]
          },
          "metadata": {},
          "execution_count": 17
        }
      ]
    },
    {
      "cell_type": "code",
      "source": [
        "# diastolic pressure is higher than systolic\n",
        "df = df.loc[df['ap_lo'] <= df['ap_hi']]\n",
        "df.shape"
      ],
      "metadata": {
        "colab": {
          "base_uri": "https://localhost:8080/"
        },
        "id": "ukCbLEszkGXr",
        "outputId": "d15f03c1-2326-4bc9-9fdf-dd2bd02d36a3"
      },
      "execution_count": null,
      "outputs": [
        {
          "output_type": "execute_result",
          "data": {
            "text/plain": [
              "(68766, 15)"
            ]
          },
          "metadata": {},
          "execution_count": 18
        }
      ]
    },
    {
      "cell_type": "code",
      "source": [
        "# height is less than the 2.5th percentile\n",
        "df = df.loc[df['height'] >= df['height'].quantile(0.025)]\n",
        "df.shape"
      ],
      "metadata": {
        "colab": {
          "base_uri": "https://localhost:8080/"
        },
        "id": "xfFqvKQ1yx_r",
        "outputId": "0ba3ca1d-b036-42cc-decb-f6d64bb0e6eb"
      },
      "execution_count": null,
      "outputs": [
        {
          "output_type": "execute_result",
          "data": {
            "text/plain": [
              "(67260, 15)"
            ]
          },
          "metadata": {},
          "execution_count": 19
        }
      ]
    },
    {
      "cell_type": "code",
      "source": [
        "# height is more than the 97.5th percentile\n",
        "df = df.loc[df['height'] <= df['height'].quantile(0.975)]\n",
        "df.shape"
      ],
      "metadata": {
        "colab": {
          "base_uri": "https://localhost:8080/"
        },
        "id": "Ur8Unpd7y-pU",
        "outputId": "c50e6a9e-a71e-4137-9bc3-cd55eaf1e66f"
      },
      "execution_count": null,
      "outputs": [
        {
          "output_type": "execute_result",
          "data": {
            "text/plain": [
              "(65859, 15)"
            ]
          },
          "metadata": {},
          "execution_count": 20
        }
      ]
    },
    {
      "cell_type": "code",
      "source": [
        "# weight is less than the 2.5th percentile\n",
        "df = df.loc[df['weight'] >= df['weight'].quantile(0.025)]\n",
        "df.shape"
      ],
      "metadata": {
        "colab": {
          "base_uri": "https://localhost:8080/"
        },
        "id": "JCvoylMjzKSg",
        "outputId": "947decd7-4ec7-479e-c0f1-e7132d8ecf46"
      },
      "execution_count": null,
      "outputs": [
        {
          "output_type": "execute_result",
          "data": {
            "text/plain": [
              "(64384, 15)"
            ]
          },
          "metadata": {},
          "execution_count": 21
        }
      ]
    },
    {
      "cell_type": "code",
      "source": [
        "# weight is more than the 97.5th percentile\n",
        "df = df.loc[df['weight'] <= df['weight'].quantile(0.975)]\n",
        "df.shape"
      ],
      "metadata": {
        "colab": {
          "base_uri": "https://localhost:8080/"
        },
        "id": "TiBi2TUNzWJT",
        "outputId": "216a637f-64fc-4d2e-f4f3-457d270efc17"
      },
      "execution_count": null,
      "outputs": [
        {
          "output_type": "execute_result",
          "data": {
            "text/plain": [
              "(62784, 15)"
            ]
          },
          "metadata": {},
          "execution_count": 22
        }
      ]
    },
    {
      "cell_type": "markdown",
      "source": [
        "#### **Question 6**\n",
        "\n",
        "Create a correlation matrix using the dataset. Plot the correlation matrix using seaborn's heatmap(). Mask the upper triangle. "
      ],
      "metadata": {
        "id": "EMqY22BWzf1z"
      }
    },
    {
      "cell_type": "code",
      "source": [
        "df.shape"
      ],
      "metadata": {
        "colab": {
          "base_uri": "https://localhost:8080/"
        },
        "id": "dptRVOetzmHT",
        "outputId": "68da3aae-61f0-4388-f5ad-09bd652804ee"
      },
      "execution_count": null,
      "outputs": [
        {
          "output_type": "execute_result",
          "data": {
            "text/plain": [
              "(62784, 15)"
            ]
          },
          "metadata": {},
          "execution_count": 23
        }
      ]
    },
    {
      "cell_type": "code",
      "source": [
        "df.head()"
      ],
      "metadata": {
        "colab": {
          "base_uri": "https://localhost:8080/",
          "height": 206
        },
        "id": "A5FZ3_lxzqjg",
        "outputId": "f20fec21-f578-4557-a3ef-0073079b29cb"
      },
      "execution_count": null,
      "outputs": [
        {
          "output_type": "execute_result",
          "data": {
            "text/html": [
              "\n",
              "  <div id=\"df-3d133fe3-a078-4b38-ba29-399181470ae6\">\n",
              "    <div class=\"colab-df-container\">\n",
              "      <div>\n",
              "<style scoped>\n",
              "    .dataframe tbody tr th:only-of-type {\n",
              "        vertical-align: middle;\n",
              "    }\n",
              "\n",
              "    .dataframe tbody tr th {\n",
              "        vertical-align: top;\n",
              "    }\n",
              "\n",
              "    .dataframe thead th {\n",
              "        text-align: right;\n",
              "    }\n",
              "</style>\n",
              "<table border=\"1\" class=\"dataframe\">\n",
              "  <thead>\n",
              "    <tr style=\"text-align: right;\">\n",
              "      <th></th>\n",
              "      <th>id</th>\n",
              "      <th>age</th>\n",
              "      <th>gender</th>\n",
              "      <th>height</th>\n",
              "      <th>weight</th>\n",
              "      <th>ap_hi</th>\n",
              "      <th>ap_lo</th>\n",
              "      <th>cholesterol</th>\n",
              "      <th>gluc</th>\n",
              "      <th>smoke</th>\n",
              "      <th>alco</th>\n",
              "      <th>active</th>\n",
              "      <th>cardio</th>\n",
              "      <th>BMI</th>\n",
              "      <th>Overweight</th>\n",
              "    </tr>\n",
              "  </thead>\n",
              "  <tbody>\n",
              "    <tr>\n",
              "      <th>0</th>\n",
              "      <td>0</td>\n",
              "      <td>18393</td>\n",
              "      <td>2</td>\n",
              "      <td>1.68</td>\n",
              "      <td>62.0</td>\n",
              "      <td>110</td>\n",
              "      <td>80</td>\n",
              "      <td>0</td>\n",
              "      <td>0</td>\n",
              "      <td>0</td>\n",
              "      <td>0</td>\n",
              "      <td>1</td>\n",
              "      <td>0</td>\n",
              "      <td>36.904762</td>\n",
              "      <td>1</td>\n",
              "    </tr>\n",
              "    <tr>\n",
              "      <th>1</th>\n",
              "      <td>1</td>\n",
              "      <td>20228</td>\n",
              "      <td>1</td>\n",
              "      <td>1.56</td>\n",
              "      <td>85.0</td>\n",
              "      <td>140</td>\n",
              "      <td>90</td>\n",
              "      <td>1</td>\n",
              "      <td>0</td>\n",
              "      <td>0</td>\n",
              "      <td>0</td>\n",
              "      <td>1</td>\n",
              "      <td>1</td>\n",
              "      <td>54.487179</td>\n",
              "      <td>1</td>\n",
              "    </tr>\n",
              "    <tr>\n",
              "      <th>2</th>\n",
              "      <td>2</td>\n",
              "      <td>18857</td>\n",
              "      <td>1</td>\n",
              "      <td>1.65</td>\n",
              "      <td>64.0</td>\n",
              "      <td>130</td>\n",
              "      <td>70</td>\n",
              "      <td>1</td>\n",
              "      <td>0</td>\n",
              "      <td>0</td>\n",
              "      <td>0</td>\n",
              "      <td>0</td>\n",
              "      <td>1</td>\n",
              "      <td>38.787879</td>\n",
              "      <td>1</td>\n",
              "    </tr>\n",
              "    <tr>\n",
              "      <th>3</th>\n",
              "      <td>3</td>\n",
              "      <td>17623</td>\n",
              "      <td>2</td>\n",
              "      <td>1.69</td>\n",
              "      <td>82.0</td>\n",
              "      <td>150</td>\n",
              "      <td>100</td>\n",
              "      <td>0</td>\n",
              "      <td>0</td>\n",
              "      <td>0</td>\n",
              "      <td>0</td>\n",
              "      <td>1</td>\n",
              "      <td>1</td>\n",
              "      <td>48.520710</td>\n",
              "      <td>1</td>\n",
              "    </tr>\n",
              "    <tr>\n",
              "      <th>4</th>\n",
              "      <td>4</td>\n",
              "      <td>17474</td>\n",
              "      <td>1</td>\n",
              "      <td>1.56</td>\n",
              "      <td>56.0</td>\n",
              "      <td>100</td>\n",
              "      <td>60</td>\n",
              "      <td>0</td>\n",
              "      <td>0</td>\n",
              "      <td>0</td>\n",
              "      <td>0</td>\n",
              "      <td>0</td>\n",
              "      <td>0</td>\n",
              "      <td>35.897436</td>\n",
              "      <td>1</td>\n",
              "    </tr>\n",
              "  </tbody>\n",
              "</table>\n",
              "</div>\n",
              "      <button class=\"colab-df-convert\" onclick=\"convertToInteractive('df-3d133fe3-a078-4b38-ba29-399181470ae6')\"\n",
              "              title=\"Convert this dataframe to an interactive table.\"\n",
              "              style=\"display:none;\">\n",
              "        \n",
              "  <svg xmlns=\"http://www.w3.org/2000/svg\" height=\"24px\"viewBox=\"0 0 24 24\"\n",
              "       width=\"24px\">\n",
              "    <path d=\"M0 0h24v24H0V0z\" fill=\"none\"/>\n",
              "    <path d=\"M18.56 5.44l.94 2.06.94-2.06 2.06-.94-2.06-.94-.94-2.06-.94 2.06-2.06.94zm-11 1L8.5 8.5l.94-2.06 2.06-.94-2.06-.94L8.5 2.5l-.94 2.06-2.06.94zm10 10l.94 2.06.94-2.06 2.06-.94-2.06-.94-.94-2.06-.94 2.06-2.06.94z\"/><path d=\"M17.41 7.96l-1.37-1.37c-.4-.4-.92-.59-1.43-.59-.52 0-1.04.2-1.43.59L10.3 9.45l-7.72 7.72c-.78.78-.78 2.05 0 2.83L4 21.41c.39.39.9.59 1.41.59.51 0 1.02-.2 1.41-.59l7.78-7.78 2.81-2.81c.8-.78.8-2.07 0-2.86zM5.41 20L4 18.59l7.72-7.72 1.47 1.35L5.41 20z\"/>\n",
              "  </svg>\n",
              "      </button>\n",
              "      \n",
              "  <style>\n",
              "    .colab-df-container {\n",
              "      display:flex;\n",
              "      flex-wrap:wrap;\n",
              "      gap: 12px;\n",
              "    }\n",
              "\n",
              "    .colab-df-convert {\n",
              "      background-color: #E8F0FE;\n",
              "      border: none;\n",
              "      border-radius: 50%;\n",
              "      cursor: pointer;\n",
              "      display: none;\n",
              "      fill: #1967D2;\n",
              "      height: 32px;\n",
              "      padding: 0 0 0 0;\n",
              "      width: 32px;\n",
              "    }\n",
              "\n",
              "    .colab-df-convert:hover {\n",
              "      background-color: #E2EBFA;\n",
              "      box-shadow: 0px 1px 2px rgba(60, 64, 67, 0.3), 0px 1px 3px 1px rgba(60, 64, 67, 0.15);\n",
              "      fill: #174EA6;\n",
              "    }\n",
              "\n",
              "    [theme=dark] .colab-df-convert {\n",
              "      background-color: #3B4455;\n",
              "      fill: #D2E3FC;\n",
              "    }\n",
              "\n",
              "    [theme=dark] .colab-df-convert:hover {\n",
              "      background-color: #434B5C;\n",
              "      box-shadow: 0px 1px 3px 1px rgba(0, 0, 0, 0.15);\n",
              "      filter: drop-shadow(0px 1px 2px rgba(0, 0, 0, 0.3));\n",
              "      fill: #FFFFFF;\n",
              "    }\n",
              "  </style>\n",
              "\n",
              "      <script>\n",
              "        const buttonEl =\n",
              "          document.querySelector('#df-3d133fe3-a078-4b38-ba29-399181470ae6 button.colab-df-convert');\n",
              "        buttonEl.style.display =\n",
              "          google.colab.kernel.accessAllowed ? 'block' : 'none';\n",
              "\n",
              "        async function convertToInteractive(key) {\n",
              "          const element = document.querySelector('#df-3d133fe3-a078-4b38-ba29-399181470ae6');\n",
              "          const dataTable =\n",
              "            await google.colab.kernel.invokeFunction('convertToInteractive',\n",
              "                                                     [key], {});\n",
              "          if (!dataTable) return;\n",
              "\n",
              "          const docLinkHtml = 'Like what you see? Visit the ' +\n",
              "            '<a target=\"_blank\" href=https://colab.research.google.com/notebooks/data_table.ipynb>data table notebook</a>'\n",
              "            + ' to learn more about interactive tables.';\n",
              "          element.innerHTML = '';\n",
              "          dataTable['output_type'] = 'display_data';\n",
              "          await google.colab.output.renderOutput(dataTable, element);\n",
              "          const docLink = document.createElement('div');\n",
              "          docLink.innerHTML = docLinkHtml;\n",
              "          element.appendChild(docLink);\n",
              "        }\n",
              "      </script>\n",
              "    </div>\n",
              "  </div>\n",
              "  "
            ],
            "text/plain": [
              "   id    age  gender  height  ...  active  cardio        BMI  Overweight\n",
              "0   0  18393       2    1.68  ...       1       0  36.904762           1\n",
              "1   1  20228       1    1.56  ...       1       1  54.487179           1\n",
              "2   2  18857       1    1.65  ...       0       1  38.787879           1\n",
              "3   3  17623       2    1.69  ...       1       1  48.520710           1\n",
              "4   4  17474       1    1.56  ...       0       0  35.897436           1\n",
              "\n",
              "[5 rows x 15 columns]"
            ]
          },
          "metadata": {},
          "execution_count": 24
        }
      ]
    },
    {
      "cell_type": "code",
      "source": [
        "df.info()"
      ],
      "metadata": {
        "colab": {
          "base_uri": "https://localhost:8080/"
        },
        "id": "Kq1SXe3V1M8D",
        "outputId": "a57639eb-5061-4fc3-f53e-7aca841b2836"
      },
      "execution_count": null,
      "outputs": [
        {
          "output_type": "stream",
          "name": "stdout",
          "text": [
            "<class 'pandas.core.frame.DataFrame'>\n",
            "Int64Index: 62784 entries, 0 to 69999\n",
            "Data columns (total 15 columns):\n",
            " #   Column       Non-Null Count  Dtype  \n",
            "---  ------       --------------  -----  \n",
            " 0   id           62784 non-null  int64  \n",
            " 1   age          62784 non-null  int64  \n",
            " 2   gender       62784 non-null  int64  \n",
            " 3   height       62784 non-null  float64\n",
            " 4   weight       62784 non-null  float64\n",
            " 5   ap_hi        62784 non-null  int64  \n",
            " 6   ap_lo        62784 non-null  int64  \n",
            " 7   cholesterol  62784 non-null  int64  \n",
            " 8   gluc         62784 non-null  int64  \n",
            " 9   smoke        62784 non-null  int64  \n",
            " 10  alco         62784 non-null  int64  \n",
            " 11  active       62784 non-null  int64  \n",
            " 12  cardio       62784 non-null  int64  \n",
            " 13  BMI          62784 non-null  float64\n",
            " 14  Overweight   62784 non-null  int64  \n",
            "dtypes: float64(3), int64(12)\n",
            "memory usage: 7.7 MB\n"
          ]
        }
      ]
    },
    {
      "cell_type": "code",
      "source": [
        "df.drop(columns=['id'],inplace=True)"
      ],
      "metadata": {
        "id": "Zu0XVXvR1XPc"
      },
      "execution_count": null,
      "outputs": []
    },
    {
      "cell_type": "code",
      "source": [
        "plt.figure(figsize=(15,10))\n",
        "mask = np.zeros_like(df.corr())\n",
        "mask[np.triu_indices_from(mask)] = True\n",
        "sb.heatmap(df.corr(),annot=True,mask=mask,linewidths=0.1, linecolor='gray') \n",
        "\n",
        "# white space is because of the bad values"
      ],
      "metadata": {
        "colab": {
          "base_uri": "https://localhost:8080/",
          "height": 610
        },
        "id": "qF0vKL1Xzsjx",
        "outputId": "59c03a38-2295-4184-cf85-760c04676d65"
      },
      "execution_count": null,
      "outputs": [
        {
          "output_type": "execute_result",
          "data": {
            "text/plain": [
              "<matplotlib.axes._subplots.AxesSubplot at 0x7f283f4b7c10>"
            ]
          },
          "metadata": {},
          "execution_count": 27
        },
        {
          "output_type": "display_data",
          "data": {
            "image/png": "[encoded data removed]",
            "text/plain": [
              "<Figure size 1080x720 with 2 Axes>"
            ]
          },
          "metadata": {
            "needs_background": "light"
          }
        }
      ]
    }
  ]
}